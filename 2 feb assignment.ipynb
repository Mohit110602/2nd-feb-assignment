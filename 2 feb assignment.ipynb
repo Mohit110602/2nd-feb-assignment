{
 "cells": [
  {
   "cell_type": "code",
   "execution_count": null,
   "id": "39793293-d872-422a-a7e9-7e2dcdbdc24f",
   "metadata": {},
   "outputs": [],
   "source": [
    "#1)\n",
    "#For loop:\n",
    "n = [1, 2, 3]  \n",
    "for i in n:  \n",
    "    print(i)\n",
    "    \n",
    "#While loop:\n",
    "i = 1  \n",
    "while i < 4: \n",
    "    print(i)\n",
    "    i += 1 "
   ]
  },
  {
   "cell_type": "code",
   "execution_count": null,
   "id": "fa3e6769-be3e-482e-9076-2a8411ded22a",
   "metadata": {},
   "outputs": [],
   "source": [
    "#2)\n",
    "#For loop:\n",
    "#Sum:\n",
    "sum=0\n",
    "for i in range(1,11):\n",
    "    sum=sum+i\n",
    "print(sum)\n",
    "#Product\n",
    "prod=1\n",
    "for i in range(1,11):\n",
    "    prod=prod*i\n",
    "print(prod)\n",
    "\n",
    "#While loop\n",
    "#Sum\n",
    "sum=0\n",
    "i=1\n",
    "while i<=10:\n",
    "    sum=sum+i\n",
    "    i=i+1\n",
    "print(sum)\n",
    "#Product\n",
    "prod=1\n",
    "i=1\n",
    "while i<=10:\n",
    "    prod=prod*i\n",
    "    i=i+1\n",
    "print(prod)"
   ]
  },
  {
   "cell_type": "code",
   "execution_count": 4,
   "id": "50d0f50c-048c-4540-8767-5bb59e73a740",
   "metadata": {},
   "outputs": [
    {
     "name": "stdin",
     "output_type": "stream",
     "text": [
      "Enter the units of electricity consumed:  310\n"
     ]
    },
    {
     "name": "stdout",
     "output_type": "stream",
     "text": [
      "Bill= 2250.0\n"
     ]
    }
   ],
   "source": [
    "#3)\n",
    "n=int(input('Enter the units of electricity consumed: '))\n",
    "if n<=100:\n",
    "    print('Bill= '+str(n*4.5))\n",
    "elif n>100 and n<=200:\n",
    "    amount1=(n-100)*6+(100*4.5)\n",
    "    print('Bill= '+str(amount1))\n",
    "elif n>200 and n<=300:\n",
    "    amount2=(n-200)*10+(100*4.5)+(100*6)\n",
    "    print('Bill= '+str(amount2))\n",
    "else:\n",
    "    amount3=(n-300)*20+(100*4.5)+(100*6)+(100*10)\n",
    "    print('Bill= '+str(amount3))"
   ]
  },
  {
   "cell_type": "code",
   "execution_count": 3,
   "id": "7af87538-5d58-45e5-8afd-ad1163ff1070",
   "metadata": {},
   "outputs": [],
   "source": [
    "#4)\n",
    "l=[]\n",
    "l1=[]\n",
    "final_list=[]\n",
    "i=1\n",
    "while i<=100:\n",
    "    l.append(i)\n",
    "    i=i+1\n",
    "for i in l:\n",
    "    l1.append(i*i*i)\n",
    "for i in l1:\n",
    "    if i%4==0 or i%5==0:\n",
    "        final_list.append(i)\n",
    "print(final_list)"
   ]
  },
  {
   "cell_type": "code",
   "execution_count": null,
   "id": "64e4dca5-2614-4770-9b75-f3100e105dde",
   "metadata": {},
   "outputs": [],
   "source": [
    "#5)\n"
   ]
  }
 ],
 "metadata": {
  "kernelspec": {
   "display_name": "Python 3 (ipykernel)",
   "language": "python",
   "name": "python3"
  },
  "language_info": {
   "codemirror_mode": {
    "name": "ipython",
    "version": 3
   },
   "file_extension": ".py",
   "mimetype": "text/x-python",
   "name": "python",
   "nbconvert_exporter": "python",
   "pygments_lexer": "ipython3",
   "version": "3.10.8"
  }
 },
 "nbformat": 4,
 "nbformat_minor": 5
}
